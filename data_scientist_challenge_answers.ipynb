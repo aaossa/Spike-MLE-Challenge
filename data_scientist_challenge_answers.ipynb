{
 "cells": [
  {
   "cell_type": "code",
   "execution_count": null,
   "metadata": {
    "execution": {
     "iopub.execute_input": "2021-04-19T17:05:54.647506Z",
     "iopub.status.busy": "2021-04-19T17:05:54.647237Z",
     "iopub.status.idle": "2021-04-19T17:05:54.651461Z",
     "shell.execute_reply": "2021-04-19T17:05:54.650774Z",
     "shell.execute_reply.started": "2021-04-19T17:05:54.647479Z"
    }
   },
   "outputs": [],
   "source": [
    "from pathlib import Path\n",
    "\n",
    "import matplotlib.pyplot as plt\n",
    "import numpy as np\n",
    "import pandas as pd\n",
    "\n",
    "import locale\n"
   ]
  },
  {
   "cell_type": "code",
   "execution_count": null,
   "metadata": {},
   "outputs": [],
   "source": [
    "locale.setlocale(locale.LC_TIME, \"es_ES.UTF-8\")\n",
    "# pd.options.mode.chained_assignment = None  # default='warn'\n",
    "plt.style.use(\"seaborn-notebook\")\n"
   ]
  },
  {
   "cell_type": "markdown",
   "metadata": {},
   "source": [
    "## Data loading and cleaning\n",
    "\n",
    "In this section, the applicant loads and cleans raw data from the following files:\n",
    "- `precipitaciones.csv` has the monthly mean of rainfall registered from January 1979 to April 2020.\n",
    "- `banco_central.csv` has macroeconomic variables."
   ]
  },
  {
   "cell_type": "code",
   "execution_count": null,
   "metadata": {},
   "outputs": [],
   "source": [
    "RAINFALL_DATA_PATH = Path(\"data\", \"precipitaciones.csv\")\n",
    "MACROECONOMIC_DATA_PATH = Path(\"data\", \"banco_central.csv\")\n"
   ]
  },
  {
   "cell_type": "markdown",
   "metadata": {
    "execution": {
     "iopub.execute_input": "2021-04-18T19:47:32.777631Z",
     "iopub.status.busy": "2021-04-18T19:47:32.777395Z",
     "iopub.status.idle": "2021-04-18T19:47:32.780284Z",
     "shell.execute_reply": "2021-04-18T19:47:32.779506Z",
     "shell.execute_reply.started": "2021-04-18T19:47:32.777605Z"
    }
   },
   "source": [
    "### Rainfall _(precipitaciones)_"
   ]
  },
  {
   "cell_type": "code",
   "execution_count": null,
   "metadata": {},
   "outputs": [],
   "source": [
    "import pandas as pd\n",
    "\n",
    "\n",
    "def load_rainfall_data(data_path):\n",
    "    df = pd.read_csv(data_path)\n",
    "    df[\"date\"] = pd.to_datetime(df[\"date\"], format=\"%Y-%m-%d\")\n",
    "    df = df.sort_values(by=\"date\", ascending=True).reset_index(drop=True)\n",
    "    df = df.dropna()\n",
    "    df = df.drop_duplicates()\n",
    "    return df\n",
    "\n",
    "precipitaciones = load_rainfall_data(RAINFALL_DATA_PATH)\n",
    "precipitaciones.head()\n"
   ]
  },
  {
   "cell_type": "markdown",
   "metadata": {},
   "source": [
    "### Macroeconomic variables _(banco central)_"
   ]
  },
  {
   "cell_type": "code",
   "execution_count": null,
   "metadata": {},
   "outputs": [],
   "source": [
    "import pandas as pd\n",
    "\n",
    "\n",
    "def load_macroeconomic_data(data_path):\n",
    "    df = pd.read_csv(data_path)\n",
    "    df[\"Periodo\"] = df[\"Periodo\"].apply(lambda x: x[0:10])\n",
    "    df[\"Periodo\"] = pd.to_datetime(df[\"Periodo\"], format=\"%Y-%m-%d\", errors=\"coerce\")\n",
    "    df = df.drop_duplicates(subset=\"Periodo\")\n",
    "    df = df[~df[\"Periodo\"].isna()]\n",
    "    return df\n",
    "\n",
    "banco_central = load_macroeconomic_data(MACROECONOMIC_DATA_PATH)\n",
    "banco_central.head()\n"
   ]
  },
  {
   "cell_type": "code",
   "execution_count": null,
   "metadata": {
    "execution": {
     "iopub.execute_input": "2021-04-19T21:57:10.526507Z",
     "iopub.status.busy": "2021-04-19T21:57:10.526308Z",
     "iopub.status.idle": "2021-04-19T21:57:10.578195Z",
     "shell.execute_reply": "2021-04-19T21:57:10.577641Z",
     "shell.execute_reply.started": "2021-04-19T21:57:10.526487Z"
    }
   },
   "outputs": [],
   "source": [
    "def convert_int(x):\n",
    "    return int(x.replace('.', ''))\n",
    "\n",
    "cols_pib = [x for x in list(banco_central.columns) if 'PIB' in x]\n",
    "cols_pib.extend(['Periodo'])\n",
    "banco_central_pib = banco_central[cols_pib]\n",
    "banco_central_pib = banco_central_pib.dropna(how = 'any', axis = 0)\n",
    "\n",
    "for col in cols_pib:\n",
    "    if col == 'Periodo':\n",
    "        continue\n",
    "    else:\n",
    "        banco_central_pib[col] = banco_central_pib[col].apply(lambda x: convert_int(x))\n",
    "\n",
    "banco_central_pib.sort_values(by = 'Periodo', ascending = True)\n",
    "banco_central_pib"
   ]
  },
  {
   "cell_type": "code",
   "execution_count": null,
   "metadata": {
    "execution": {
     "iopub.execute_input": "2021-04-19T21:57:12.874118Z",
     "iopub.status.busy": "2021-04-19T21:57:12.873916Z",
     "iopub.status.idle": "2021-04-19T21:57:12.912138Z",
     "shell.execute_reply": "2021-04-19T21:57:12.911524Z",
     "shell.execute_reply.started": "2021-04-19T21:57:12.874097Z"
    }
   },
   "outputs": [],
   "source": [
    "def to_100(x): #mirando datos del bc, pib existe entre ~85-120 - igual esto es cm (?)\n",
    "    x = x.split('.')\n",
    "    if x[0].startswith('1'): #es 100+\n",
    "        if len(x[0]) >2:\n",
    "            return float(x[0] + '.' + x[1])\n",
    "        else:\n",
    "            x = x[0]+x[1]\n",
    "            return float(x[0:3] + '.' + x[3:])\n",
    "    else:\n",
    "        if len(x[0])>2:\n",
    "            return float(x[0][0:2] + '.' + x[0][-1])\n",
    "        else:\n",
    "            x = x[0] + x[1]\n",
    "            return float(x[0:2] + '.' + x[2:])\n",
    "\n",
    "        \n",
    "cols_imacec = [x for x in list(banco_central.columns) if 'Imacec' in x]\n",
    "cols_imacec.extend(['Periodo'])\n",
    "banco_central_imacec = banco_central[cols_imacec]\n",
    "banco_central_imacec = banco_central_imacec.dropna(how = 'any', axis = 0)\n",
    "\n",
    "for col in cols_imacec:\n",
    "    if col == 'Periodo':\n",
    "        continue\n",
    "    else:\n",
    "        banco_central_imacec[col] = banco_central_imacec[col].apply(lambda x: to_100(x))\n",
    "        assert(banco_central_imacec[col].max()>100)\n",
    "        assert(banco_central_imacec[col].min()>30)\n",
    "\n",
    "banco_central_imacec.sort_values(by = 'Periodo', ascending = True)\n",
    "banco_central_imacec"
   ]
  },
  {
   "cell_type": "code",
   "execution_count": null,
   "metadata": {
    "execution": {
     "iopub.execute_input": "2021-04-19T21:57:19.100803Z",
     "iopub.status.busy": "2021-04-19T21:57:19.100606Z",
     "iopub.status.idle": "2021-04-19T21:57:19.108010Z",
     "shell.execute_reply": "2021-04-19T21:57:19.107326Z",
     "shell.execute_reply.started": "2021-04-19T21:57:19.100781Z"
    }
   },
   "outputs": [],
   "source": [
    "banco_central_iv = banco_central[['Indice_de_ventas_comercio_real_no_durables_IVCM', 'Periodo']]\n",
    "banco_central_iv = banco_central_iv.dropna() # -unidades? #parte \n",
    "banco_central_iv = banco_central_iv.sort_values(by = 'Periodo', ascending = True)"
   ]
  },
  {
   "cell_type": "code",
   "execution_count": null,
   "metadata": {
    "execution": {
     "iopub.execute_input": "2021-04-19T21:57:19.489162Z",
     "iopub.status.busy": "2021-04-19T21:57:19.488936Z",
     "iopub.status.idle": "2021-04-19T21:57:19.506909Z",
     "shell.execute_reply": "2021-04-19T21:57:19.506110Z",
     "shell.execute_reply.started": "2021-04-19T21:57:19.489137Z"
    }
   },
   "outputs": [],
   "source": [
    "banco_central_iv.head() #unidades? https://si3.bcentral.cl/siete/ES/Siete/Canasta?idCanasta=M57TP1161519 porcentajes?"
   ]
  },
  {
   "cell_type": "code",
   "execution_count": null,
   "metadata": {
    "execution": {
     "iopub.execute_input": "2021-04-19T21:57:25.458017Z",
     "iopub.status.busy": "2021-04-19T21:57:25.457822Z",
     "iopub.status.idle": "2021-04-19T21:57:25.469475Z",
     "shell.execute_reply": "2021-04-19T21:57:25.468954Z",
     "shell.execute_reply.started": "2021-04-19T21:57:25.457996Z"
    }
   },
   "outputs": [],
   "source": [
    "banco_central_iv['num'] = banco_central_iv.Indice_de_ventas_comercio_real_no_durables_IVCM.apply(lambda x: to_100(x))\n",
    "banco_central_iv"
   ]
  },
  {
   "cell_type": "code",
   "execution_count": null,
   "metadata": {
    "execution": {
     "iopub.execute_input": "2021-04-19T21:57:28.441624Z",
     "iopub.status.busy": "2021-04-19T21:57:28.441390Z",
     "iopub.status.idle": "2021-04-19T21:57:28.447827Z",
     "shell.execute_reply": "2021-04-19T21:57:28.447016Z",
     "shell.execute_reply.started": "2021-04-19T21:57:28.441598Z"
    }
   },
   "outputs": [],
   "source": [
    "banco_central_iv.Periodo.min()"
   ]
  },
  {
   "cell_type": "code",
   "execution_count": null,
   "metadata": {
    "execution": {
     "iopub.execute_input": "2021-04-19T21:57:28.782255Z",
     "iopub.status.busy": "2021-04-19T21:57:28.782047Z",
     "iopub.status.idle": "2021-04-19T21:57:28.786369Z",
     "shell.execute_reply": "2021-04-19T21:57:28.785692Z",
     "shell.execute_reply.started": "2021-04-19T21:57:28.782233Z"
    }
   },
   "outputs": [],
   "source": [
    "banco_central_iv.Periodo.max()"
   ]
  },
  {
   "cell_type": "code",
   "execution_count": null,
   "metadata": {
    "execution": {
     "iopub.execute_input": "2021-04-19T21:57:29.623437Z",
     "iopub.status.busy": "2021-04-19T21:57:29.623206Z",
     "iopub.status.idle": "2021-04-19T21:57:29.639308Z",
     "shell.execute_reply": "2021-04-19T21:57:29.638534Z",
     "shell.execute_reply.started": "2021-04-19T21:57:29.623412Z"
    }
   },
   "outputs": [],
   "source": [
    "banco_central_num = pd.merge(banco_central_pib, banco_central_imacec, on = 'Periodo', how = 'inner')\n",
    "banco_central_num = pd.merge(banco_central_num, banco_central_iv, on = 'Periodo', how = 'inner')"
   ]
  },
  {
   "cell_type": "markdown",
   "metadata": {},
   "source": [
    "# Supply data and feature engineering.\n",
    "\n",
    "In this section, the applicant loads the file `precio_leche.csv` which contains the monthly price of milk from 1979 to 2021. She/he/they merges this dataset with the data previously processed and creates new variables to help prediction (feature engineering). Aditionally, some some variables are plotted for exploratory analisys."
   ]
  },
  {
   "cell_type": "code",
   "execution_count": null,
   "metadata": {},
   "outputs": [],
   "source": [
    "MILK_PRICE_PATH = Path(\"data\", \"precio_leche.csv\")\n"
   ]
  },
  {
   "cell_type": "code",
   "execution_count": null,
   "metadata": {
    "execution": {
     "iopub.execute_input": "2021-04-19T17:15:21.032571Z",
     "iopub.status.busy": "2021-04-19T17:15:21.032355Z",
     "iopub.status.idle": "2021-04-19T17:15:21.068714Z",
     "shell.execute_reply": "2021-04-19T17:15:21.068107Z",
     "shell.execute_reply.started": "2021-04-19T17:15:21.032543Z"
    }
   },
   "outputs": [],
   "source": [
    "precio_leche = pd.read_csv(MILK_PRICE_PATH)\n",
    "precio_leche.rename(columns = {'Anio': 'ano', 'Mes': 'mes_pal'}, inplace = True) # precio = nominal, sin iva en clp/litro\n",
    "precio_leche['mes'] = pd.to_datetime(precio_leche['mes_pal'], format = '%b')\n",
    "precio_leche['mes'] = precio_leche['mes'].apply(lambda x: x.month)\n",
    "precio_leche['mes-ano'] = precio_leche.apply(lambda x: f'{x.mes}-{x.ano}', axis = 1)\n",
    "precio_leche.head()"
   ]
  },
  {
   "cell_type": "code",
   "execution_count": null,
   "metadata": {
    "execution": {
     "iopub.execute_input": "2021-04-19T17:16:22.361916Z",
     "iopub.status.busy": "2021-04-19T17:16:22.361708Z",
     "iopub.status.idle": "2021-04-19T17:16:22.512636Z",
     "shell.execute_reply": "2021-04-19T17:16:22.512088Z",
     "shell.execute_reply.started": "2021-04-19T17:16:22.361895Z"
    }
   },
   "outputs": [],
   "source": [
    "precio_leche.plot(x = 'mes-ano', y = 'Precio_leche') #alza 2010-2011?"
   ]
  },
  {
   "cell_type": "code",
   "execution_count": null,
   "metadata": {
    "execution": {
     "iopub.execute_input": "2021-04-19T17:16:30.488873Z",
     "iopub.status.busy": "2021-04-19T17:16:30.488659Z",
     "iopub.status.idle": "2021-04-19T17:16:30.639893Z",
     "shell.execute_reply": "2021-04-19T17:16:30.639178Z",
     "shell.execute_reply.started": "2021-04-19T17:16:30.488852Z"
    }
   },
   "outputs": [],
   "source": [
    "precio_leche[precio_leche.ano>=2013].plot(x = 'mes-ano', y = 'Precio_leche')"
   ]
  },
  {
   "cell_type": "code",
   "execution_count": null,
   "metadata": {
    "execution": {
     "iopub.execute_input": "2021-04-19T17:16:49.917617Z",
     "iopub.status.busy": "2021-04-19T17:16:49.917405Z",
     "iopub.status.idle": "2021-04-19T17:16:49.951462Z",
     "shell.execute_reply": "2021-04-19T17:16:49.950620Z",
     "shell.execute_reply.started": "2021-04-19T17:16:49.917596Z"
    }
   },
   "outputs": [],
   "source": [
    "precipitaciones['mes'] = precipitaciones.date.apply(lambda x: x.month)\n",
    "precipitaciones['ano'] = precipitaciones.date.apply(lambda x: x.year)\n",
    "precio_leche_pp = pd.merge(precio_leche, precipitaciones, on = ['mes', 'ano'], how = 'inner')\n",
    "precio_leche_pp.drop('date', axis = 1, inplace = True)\n",
    "precio_leche_pp #precipitaciones fecha_max = 2020-04-01"
   ]
  },
  {
   "cell_type": "code",
   "execution_count": null,
   "metadata": {
    "execution": {
     "iopub.execute_input": "2021-04-19T21:21:14.240831Z",
     "iopub.status.busy": "2021-04-19T21:21:14.240602Z",
     "iopub.status.idle": "2021-04-19T21:21:14.284463Z",
     "shell.execute_reply": "2021-04-19T21:21:14.283746Z",
     "shell.execute_reply.started": "2021-04-19T21:21:14.240804Z"
    }
   },
   "outputs": [],
   "source": [
    "banco_central_num['mes'] = banco_central_num['Periodo'].apply(lambda x: x.month)\n",
    "banco_central_num['ano'] = banco_central_num['Periodo'].apply(lambda x: x.year)\n",
    "precio_leche_pp_pib = pd.merge(precio_leche_pp, banco_central_num, on = ['mes', 'ano'], how = 'inner')\n",
    "precio_leche_pp_pib.drop(['Periodo', 'Indice_de_ventas_comercio_real_no_durables_IVCM', 'mes-ano', 'mes_pal'], axis =1, inplace = True)\n",
    "precio_leche_pp_pib"
   ]
  },
  {
   "cell_type": "markdown",
   "metadata": {},
   "source": [
    "# Model\n",
    "In this section, the applicant builds a regression model to predict the price of milk. The model uses and macroeconomic climatological variables loaded at the beginning of this notebook. It also uses features created in the previous section."
   ]
  },
  {
   "cell_type": "code",
   "execution_count": null,
   "metadata": {
    "execution": {
     "iopub.execute_input": "2021-04-19T17:56:31.221931Z",
     "iopub.status.busy": "2021-04-19T17:56:31.221713Z",
     "iopub.status.idle": "2021-04-19T17:56:31.226534Z",
     "shell.execute_reply": "2021-04-19T17:56:31.225619Z",
     "shell.execute_reply.started": "2021-04-19T17:56:31.221900Z"
    }
   },
   "outputs": [],
   "source": [
    "X = precio_leche_pp_pib.drop(['Precio_leche'], axis = 1)\n",
    "y = precio_leche_pp_pib['Precio_leche']\n"
   ]
  },
  {
   "cell_type": "code",
   "execution_count": null,
   "metadata": {},
   "outputs": [],
   "source": [
    "import numpy as np\n",
    "from sklearn.feature_selection import SelectKBest, mutual_info_regression\n",
    "from sklearn.linear_model import Ridge\n",
    "from sklearn.metrics import mean_squared_error, r2_score\n",
    "from sklearn.model_selection import GridSearchCV, train_test_split\n",
    "from sklearn.pipeline import Pipeline\n",
    "from sklearn.preprocessing import PolynomialFeatures, StandardScaler\n",
    "\n",
    "\n",
    "K = [3, 4, 5, 6, 7, 10]\n",
    "ALPHA = [1, 0.5, 0.2, 0.1, 0.05, 0.02, 0.01]\n",
    "POLY = [1, 2, 3, 5, 7]\n",
    "\n",
    "def train_model(X, y, verbose=0):\n",
    "    np.random.seed(0)\n",
    "    pipeline = Pipeline([\n",
    "        (\"scale\", StandardScaler()),\n",
    "        (\"selector\", SelectKBest(mutual_info_regression)),\n",
    "        (\"poly\", PolynomialFeatures()),\n",
    "        (\"model\", Ridge()),\n",
    "    ])\n",
    "    grid = GridSearchCV(\n",
    "        estimator=pipeline,\n",
    "        param_grid=dict(selector__k=K, poly__degree=POLY, model__alpha=ALPHA),\n",
    "        cv=3, verbose=verbose, scoring=\"r2\",\n",
    "    )\n",
    "    grid.fit(X, y)\n",
    "    return grid\n"
   ]
  },
  {
   "cell_type": "code",
   "execution_count": null,
   "metadata": {
    "scrolled": true
   },
   "outputs": [],
   "source": [
    "X_train, X_test, y_train, y_test = train_test_split(X, y, test_size=0.2, random_state=42)\n",
    "\n",
    "model = train_model(X_train, y_train, verbose=3)\n",
    "grid = model\n",
    "\n",
    "y_pred = grid.predict(X_test)\n",
    "    \n",
    "# Evaluation\n",
    "test_rmse = mean_squared_error(y_test, y_pred)\n",
    "test_r2 = r2_score(y_test, y_pred)\n",
    "print(f\"RMSE={test_rmse}\")\n",
    "print(f\"R2={test_r2}\")\n"
   ]
  },
  {
   "cell_type": "code",
   "execution_count": null,
   "metadata": {
    "execution": {
     "iopub.execute_input": "2021-04-19T18:20:10.585523Z",
     "iopub.status.busy": "2021-04-19T18:20:10.585230Z",
     "iopub.status.idle": "2021-04-19T18:20:10.605544Z",
     "shell.execute_reply": "2021-04-19T18:20:10.604274Z",
     "shell.execute_reply.started": "2021-04-19T18:20:10.585496Z"
    }
   },
   "outputs": [],
   "source": [
    "grid.best_params_"
   ]
  },
  {
   "cell_type": "code",
   "execution_count": null,
   "metadata": {
    "execution": {
     "iopub.execute_input": "2021-04-19T18:27:53.829634Z",
     "iopub.status.busy": "2021-04-19T18:27:53.829432Z",
     "iopub.status.idle": "2021-04-19T18:27:53.834905Z",
     "shell.execute_reply": "2021-04-19T18:27:53.834141Z",
     "shell.execute_reply.started": "2021-04-19T18:27:53.829612Z"
    }
   },
   "outputs": [],
   "source": [
    "X_train.columns[grid.best_estimator_.named_steps['selector'].get_support()]"
   ]
  },
  {
   "cell_type": "code",
   "execution_count": null,
   "metadata": {
    "execution": {
     "iopub.execute_input": "2021-04-19T20:42:02.638626Z",
     "iopub.status.busy": "2021-04-19T20:42:02.638382Z",
     "iopub.status.idle": "2021-04-19T20:42:02.804026Z",
     "shell.execute_reply": "2021-04-19T20:42:02.803496Z",
     "shell.execute_reply.started": "2021-04-19T20:42:02.638599Z"
    }
   },
   "outputs": [],
   "source": [
    "predicted = pd.DataFrame(y_test).reset_index(drop = True)\n",
    "predicted['predicc'] = y_pred\n",
    "predicted= predicted.reset_index()\n",
    "plt.scatter(predicted.index, predicted['Precio_leche'], label = 'real')\n",
    "plt.scatter(predicted.index, predicted['predicc'], color = 'red', label = 'prediccion', alpha = 0.5)\n",
    "plt.grid(axis = 'x')\n",
    "plt.legend()"
   ]
  },
  {
   "cell_type": "code",
   "execution_count": null,
   "metadata": {
    "execution": {
     "iopub.execute_input": "2021-04-19T20:42:03.695641Z",
     "iopub.status.busy": "2021-04-19T20:42:03.695403Z",
     "iopub.status.idle": "2021-04-19T20:42:03.838078Z",
     "shell.execute_reply": "2021-04-19T20:42:03.837520Z",
     "shell.execute_reply.started": "2021-04-19T20:42:03.695616Z"
    }
   },
   "outputs": [],
   "source": [
    "predicted['residual'] = predicted.Precio_leche - predicted.predicc\n",
    "plt.hlines(0, xmin = predicted.predicc.min()-10, xmax = predicted.predicc.max()+10, linestyle='--', color = 'black', linewidth = 0.7)\n",
    "plt.scatter(predicted.predicc, predicted.residual)\n",
    "plt.xlabel('Predicción')\n",
    "plt.ylabel('Residuo (y_real - y_pred)')"
   ]
  },
  {
   "cell_type": "markdown",
   "metadata": {},
   "source": [
    "### Regresión utilizando solamente variables macroeconómicas y climatológicas"
   ]
  },
  {
   "cell_type": "code",
   "execution_count": null,
   "metadata": {
    "scrolled": true
   },
   "outputs": [],
   "source": [
    "cols_no_leche = [col for col in X.columns if not \"leche\" in col]\n",
    "X_train = X_train[cols_no_leche]\n",
    "X_test = X_test[cols_no_leche]\n",
    "\n",
    "model = train_model(X_train, y_train, verbose=3)\n",
    "grid = model\n",
    "\n",
    "y_pred_noleche = grid.predict(X_test)\n",
    "    \n",
    "# Evaluation\n",
    "test_rmse = mean_squared_error(y_test, y_pred_noleche)\n",
    "test_r2 = r2_score(y_test, y_pred_noleche)\n",
    "print(f\"RMSE={test_rmse}\")\n",
    "print(f\"R2={test_r2}\")\n"
   ]
  },
  {
   "cell_type": "code",
   "execution_count": null,
   "metadata": {
    "execution": {
     "iopub.execute_input": "2021-04-19T20:01:46.192524Z",
     "iopub.status.busy": "2021-04-19T20:01:46.192278Z",
     "iopub.status.idle": "2021-04-19T20:01:46.197994Z",
     "shell.execute_reply": "2021-04-19T20:01:46.197034Z",
     "shell.execute_reply.started": "2021-04-19T20:01:46.192499Z"
    }
   },
   "outputs": [],
   "source": [
    "grid.best_params_"
   ]
  },
  {
   "cell_type": "code",
   "execution_count": null,
   "metadata": {
    "execution": {
     "iopub.execute_input": "2021-04-19T20:01:56.444471Z",
     "iopub.status.busy": "2021-04-19T20:01:56.444262Z",
     "iopub.status.idle": "2021-04-19T20:01:56.448765Z",
     "shell.execute_reply": "2021-04-19T20:01:56.448177Z",
     "shell.execute_reply.started": "2021-04-19T20:01:56.444449Z"
    }
   },
   "outputs": [],
   "source": [
    "X_train.columns[grid.best_estimator_.named_steps['selector'].get_support()]"
   ]
  },
  {
   "cell_type": "code",
   "execution_count": null,
   "metadata": {
    "execution": {
     "iopub.execute_input": "2021-04-19T20:42:16.815156Z",
     "iopub.status.busy": "2021-04-19T20:42:16.814882Z",
     "iopub.status.idle": "2021-04-19T20:42:16.983444Z",
     "shell.execute_reply": "2021-04-19T20:42:16.982941Z",
     "shell.execute_reply.started": "2021-04-19T20:42:16.815130Z"
    }
   },
   "outputs": [],
   "source": [
    "predicted = pd.DataFrame(y_test).reset_index(drop = True)\n",
    "predicted['predicc'] =y_pred_noleche\n",
    "predicted= predicted.reset_index()\n",
    "plt.scatter(predicted.index, predicted['Precio_leche'], label = 'real')\n",
    "plt.scatter(predicted.index, predicted['predicc'], color = 'red', label = 'prediccion', alpha = 0.5)\n",
    "plt.grid(axis = 'x')\n",
    "plt.legend()"
   ]
  },
  {
   "cell_type": "code",
   "execution_count": null,
   "metadata": {
    "execution": {
     "iopub.execute_input": "2021-04-19T20:42:17.566715Z",
     "iopub.status.busy": "2021-04-19T20:42:17.566497Z",
     "iopub.status.idle": "2021-04-19T20:42:17.704664Z",
     "shell.execute_reply": "2021-04-19T20:42:17.704131Z",
     "shell.execute_reply.started": "2021-04-19T20:42:17.566693Z"
    }
   },
   "outputs": [],
   "source": [
    "predicted['residual'] = predicted.Precio_leche - predicted.predicc\n",
    "plt.hlines(0, xmin = predicted.predicc.min()-10, xmax = predicted.predicc.max()+10, linestyle='--', color = 'black', linewidth = 0.7)\n",
    "plt.scatter(predicted.predicc, predicted.residual)\n",
    "plt.xlabel('Predicción')\n",
    "plt.ylabel('Residuo (y_real - y_pred)')"
   ]
  }
 ],
 "metadata": {
  "kernelspec": {
   "display_name": "Python 3 (ipykernel)",
   "language": "python",
   "name": "python3"
  },
  "language_info": {
   "codemirror_mode": {
    "name": "ipython",
    "version": 3
   },
   "file_extension": ".py",
   "mimetype": "text/x-python",
   "name": "python",
   "nbconvert_exporter": "python",
   "pygments_lexer": "ipython3",
   "version": "3.8.12"
  }
 },
 "nbformat": 4,
 "nbformat_minor": 4
}
